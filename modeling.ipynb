{
 "cells": [
  {
   "cell_type": "markdown",
   "metadata": {},
   "source": [
    "# Prédiction de la Survie des Passagers du Titanic"
   ]
  },
  {
   "cell_type": "markdown",
   "metadata": {},
   "source": [
    "## Introduction\n",
    "\n",
    "### Ce notebook utilise PyCaret pour entraîner et comparer plusieurs modèles de classification afin de prédire la survie des passagers du Titanic.\n"
   ]
  },
  {
   "cell_type": "markdown",
   "metadata": {},
   "source": [
    "## Importation des bibliothèques"
   ]
  },
  {
   "cell_type": "code",
   "execution_count": 12,
   "metadata": {},
   "outputs": [],
   "source": [
    "import pandas as pd\n",
    "from pycaret.classification import *"
   ]
  },
  {
   "cell_type": "markdown",
   "metadata": {},
   "source": [
    "## Chargement des données prétraitées\n"
   ]
  },
  {
   "cell_type": "code",
   "execution_count": 13,
   "metadata": {},
   "outputs": [],
   "source": [
    "file_path = 'data/titanic.csv'  \n",
    "data = pd.read_csv(file_path)\n",
    "\n",
    "# Prétraitement des données\n",
    "data['Age'].fillna(data['Age'].median(), inplace=True)\n",
    "data.drop(['Name', 'Ticket', 'Cabin'], axis=1, inplace=True)\n",
    "data = pd.get_dummies(data, columns=['Sex', 'Embarked'], drop_first=True)\n"
   ]
  },
  {
   "cell_type": "markdown",
   "metadata": {},
   "source": [
    "## Configuration de l'environnement PyCaret"
   ]
  },
  {
   "cell_type": "code",
   "execution_count": 14,
   "metadata": {},
   "outputs": [
    {
     "data": {
      "text/html": [
       "<style type=\"text/css\">\n",
       "#T_44abf_row8_col1 {\n",
       "  background-color: lightgreen;\n",
       "}\n",
       "</style>\n",
       "<table id=\"T_44abf\">\n",
       "  <thead>\n",
       "    <tr>\n",
       "      <th class=\"blank level0\" >&nbsp;</th>\n",
       "      <th id=\"T_44abf_level0_col0\" class=\"col_heading level0 col0\" >Description</th>\n",
       "      <th id=\"T_44abf_level0_col1\" class=\"col_heading level0 col1\" >Value</th>\n",
       "    </tr>\n",
       "  </thead>\n",
       "  <tbody>\n",
       "    <tr>\n",
       "      <th id=\"T_44abf_level0_row0\" class=\"row_heading level0 row0\" >0</th>\n",
       "      <td id=\"T_44abf_row0_col0\" class=\"data row0 col0\" >Session id</td>\n",
       "      <td id=\"T_44abf_row0_col1\" class=\"data row0 col1\" >123</td>\n",
       "    </tr>\n",
       "    <tr>\n",
       "      <th id=\"T_44abf_level0_row1\" class=\"row_heading level0 row1\" >1</th>\n",
       "      <td id=\"T_44abf_row1_col0\" class=\"data row1 col0\" >Target</td>\n",
       "      <td id=\"T_44abf_row1_col1\" class=\"data row1 col1\" >Survived</td>\n",
       "    </tr>\n",
       "    <tr>\n",
       "      <th id=\"T_44abf_level0_row2\" class=\"row_heading level0 row2\" >2</th>\n",
       "      <td id=\"T_44abf_row2_col0\" class=\"data row2 col0\" >Target type</td>\n",
       "      <td id=\"T_44abf_row2_col1\" class=\"data row2 col1\" >Binary</td>\n",
       "    </tr>\n",
       "    <tr>\n",
       "      <th id=\"T_44abf_level0_row3\" class=\"row_heading level0 row3\" >3</th>\n",
       "      <td id=\"T_44abf_row3_col0\" class=\"data row3 col0\" >Original data shape</td>\n",
       "      <td id=\"T_44abf_row3_col1\" class=\"data row3 col1\" >(891, 10)</td>\n",
       "    </tr>\n",
       "    <tr>\n",
       "      <th id=\"T_44abf_level0_row4\" class=\"row_heading level0 row4\" >4</th>\n",
       "      <td id=\"T_44abf_row4_col0\" class=\"data row4 col0\" >Transformed data shape</td>\n",
       "      <td id=\"T_44abf_row4_col1\" class=\"data row4 col1\" >(891, 10)</td>\n",
       "    </tr>\n",
       "    <tr>\n",
       "      <th id=\"T_44abf_level0_row5\" class=\"row_heading level0 row5\" >5</th>\n",
       "      <td id=\"T_44abf_row5_col0\" class=\"data row5 col0\" >Transformed train set shape</td>\n",
       "      <td id=\"T_44abf_row5_col1\" class=\"data row5 col1\" >(623, 10)</td>\n",
       "    </tr>\n",
       "    <tr>\n",
       "      <th id=\"T_44abf_level0_row6\" class=\"row_heading level0 row6\" >6</th>\n",
       "      <td id=\"T_44abf_row6_col0\" class=\"data row6 col0\" >Transformed test set shape</td>\n",
       "      <td id=\"T_44abf_row6_col1\" class=\"data row6 col1\" >(268, 10)</td>\n",
       "    </tr>\n",
       "    <tr>\n",
       "      <th id=\"T_44abf_level0_row7\" class=\"row_heading level0 row7\" >7</th>\n",
       "      <td id=\"T_44abf_row7_col0\" class=\"data row7 col0\" >Numeric features</td>\n",
       "      <td id=\"T_44abf_row7_col1\" class=\"data row7 col1\" >6</td>\n",
       "    </tr>\n",
       "    <tr>\n",
       "      <th id=\"T_44abf_level0_row8\" class=\"row_heading level0 row8\" >8</th>\n",
       "      <td id=\"T_44abf_row8_col0\" class=\"data row8 col0\" >Preprocess</td>\n",
       "      <td id=\"T_44abf_row8_col1\" class=\"data row8 col1\" >True</td>\n",
       "    </tr>\n",
       "    <tr>\n",
       "      <th id=\"T_44abf_level0_row9\" class=\"row_heading level0 row9\" >9</th>\n",
       "      <td id=\"T_44abf_row9_col0\" class=\"data row9 col0\" >Imputation type</td>\n",
       "      <td id=\"T_44abf_row9_col1\" class=\"data row9 col1\" >simple</td>\n",
       "    </tr>\n",
       "    <tr>\n",
       "      <th id=\"T_44abf_level0_row10\" class=\"row_heading level0 row10\" >10</th>\n",
       "      <td id=\"T_44abf_row10_col0\" class=\"data row10 col0\" >Numeric imputation</td>\n",
       "      <td id=\"T_44abf_row10_col1\" class=\"data row10 col1\" >mean</td>\n",
       "    </tr>\n",
       "    <tr>\n",
       "      <th id=\"T_44abf_level0_row11\" class=\"row_heading level0 row11\" >11</th>\n",
       "      <td id=\"T_44abf_row11_col0\" class=\"data row11 col0\" >Categorical imputation</td>\n",
       "      <td id=\"T_44abf_row11_col1\" class=\"data row11 col1\" >mode</td>\n",
       "    </tr>\n",
       "    <tr>\n",
       "      <th id=\"T_44abf_level0_row12\" class=\"row_heading level0 row12\" >12</th>\n",
       "      <td id=\"T_44abf_row12_col0\" class=\"data row12 col0\" >Fold Generator</td>\n",
       "      <td id=\"T_44abf_row12_col1\" class=\"data row12 col1\" >StratifiedKFold</td>\n",
       "    </tr>\n",
       "    <tr>\n",
       "      <th id=\"T_44abf_level0_row13\" class=\"row_heading level0 row13\" >13</th>\n",
       "      <td id=\"T_44abf_row13_col0\" class=\"data row13 col0\" >Fold Number</td>\n",
       "      <td id=\"T_44abf_row13_col1\" class=\"data row13 col1\" >10</td>\n",
       "    </tr>\n",
       "    <tr>\n",
       "      <th id=\"T_44abf_level0_row14\" class=\"row_heading level0 row14\" >14</th>\n",
       "      <td id=\"T_44abf_row14_col0\" class=\"data row14 col0\" >CPU Jobs</td>\n",
       "      <td id=\"T_44abf_row14_col1\" class=\"data row14 col1\" >-1</td>\n",
       "    </tr>\n",
       "    <tr>\n",
       "      <th id=\"T_44abf_level0_row15\" class=\"row_heading level0 row15\" >15</th>\n",
       "      <td id=\"T_44abf_row15_col0\" class=\"data row15 col0\" >Use GPU</td>\n",
       "      <td id=\"T_44abf_row15_col1\" class=\"data row15 col1\" >False</td>\n",
       "    </tr>\n",
       "    <tr>\n",
       "      <th id=\"T_44abf_level0_row16\" class=\"row_heading level0 row16\" >16</th>\n",
       "      <td id=\"T_44abf_row16_col0\" class=\"data row16 col0\" >Log Experiment</td>\n",
       "      <td id=\"T_44abf_row16_col1\" class=\"data row16 col1\" >False</td>\n",
       "    </tr>\n",
       "    <tr>\n",
       "      <th id=\"T_44abf_level0_row17\" class=\"row_heading level0 row17\" >17</th>\n",
       "      <td id=\"T_44abf_row17_col0\" class=\"data row17 col0\" >Experiment Name</td>\n",
       "      <td id=\"T_44abf_row17_col1\" class=\"data row17 col1\" >clf-default-name</td>\n",
       "    </tr>\n",
       "    <tr>\n",
       "      <th id=\"T_44abf_level0_row18\" class=\"row_heading level0 row18\" >18</th>\n",
       "      <td id=\"T_44abf_row18_col0\" class=\"data row18 col0\" >USI</td>\n",
       "      <td id=\"T_44abf_row18_col1\" class=\"data row18 col1\" >6fe9</td>\n",
       "    </tr>\n",
       "  </tbody>\n",
       "</table>\n"
      ],
      "text/plain": [
       "<pandas.io.formats.style.Styler at 0x1d7e1a8df90>"
      ]
     },
     "metadata": {},
     "output_type": "display_data"
    }
   ],
   "source": [
    "clf1 = setup(data, target='Survived', session_id=123)"
   ]
  },
  {
   "cell_type": "markdown",
   "metadata": {},
   "source": [
    "## Comparaison des modèles\n"
   ]
  },
  {
   "cell_type": "code",
   "execution_count": 16,
   "metadata": {},
   "outputs": [
    {
     "data": {
      "text/html": [],
      "text/plain": [
       "<IPython.core.display.HTML object>"
      ]
     },
     "metadata": {},
     "output_type": "display_data"
    },
    {
     "data": {
      "text/html": [],
      "text/plain": [
       "<IPython.core.display.HTML object>"
      ]
     },
     "metadata": {},
     "output_type": "display_data"
    },
    {
     "data": {
      "text/html": [],
      "text/plain": [
       "<IPython.core.display.HTML object>"
      ]
     },
     "metadata": {},
     "output_type": "display_data"
    }
   ],
   "source": [
    "best_model = compare_models()\n"
   ]
  },
  {
   "cell_type": "markdown",
   "metadata": {},
   "source": [
    "## Conclusion\n",
    " Le modèle le plus performant pour prédire la survie des passagers du Titanic est Gradient Boosting Classifier."
   ]
  },
  {
   "cell_type": "code",
   "execution_count": null,
   "metadata": {},
   "outputs": [],
   "source": [
    "file_path = 'titanic_test.csv'  \n",
    "data = pd.read_csv(file_path)\n",
    "\n",
    "# Prétraitement des données\n",
    "data['Age'].fillna(data['Age'].median(), inplace=True)\n",
    "data.drop(['Name', 'Ticket', 'Cabin'], axis=1, inplace=True)\n",
    "data = pd.get_dummies(data, columns=['Sex', 'Embarked'], drop_first=True)"
   ]
  }
 ],
 "metadata": {
  "kernelspec": {
   "display_name": "Python 3",
   "language": "python",
   "name": "python3"
  },
  "language_info": {
   "codemirror_mode": {
    "name": "ipython",
    "version": 3
   },
   "file_extension": ".py",
   "mimetype": "text/x-python",
   "name": "python",
   "nbconvert_exporter": "python",
   "pygments_lexer": "ipython3",
   "version": "3.10.0"
  }
 },
 "nbformat": 4,
 "nbformat_minor": 2
}
